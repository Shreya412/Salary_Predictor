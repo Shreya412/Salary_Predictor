{
  "cells": [
    {
      "cell_type": "code",
      "execution_count": 1,
      "metadata": {
        "id": "TpbmyBvadkZ0"
      },
      "outputs": [],
      "source": [
        "import numpy as np\n",
        "import pandas as pd\n",
        "import matplotlib.pyplot as plt"
      ]
    },
    {
      "cell_type": "code",
      "execution_count": 2,
      "metadata": {
        "id": "yTOAhdnodkZ4"
      },
      "outputs": [],
      "source": [
        "%matplotlib inline"
      ]
    },
    {
      "cell_type": "code",
      "execution_count": 3,
      "metadata": {
        "id": "osVFvVHCdkZ5"
      },
      "outputs": [],
      "source": [
        "df = pd.read_csv('data/survey_results_public.csv')"
      ]
    },
    {
      "cell_type": "code",
      "execution_count": 4,
      "metadata": {
        "colab": {
          "base_uri": "https://localhost:8080/",
          "height": 675
        },
        "id": "tFT6sQnPdkZ6",
        "outputId": "797658b0-2e32-4a59-e0a0-b051962822cd"
      },
      "outputs": [
        {
          "data": {
            "text/html": [
              "<div>\n",
              "<style scoped>\n",
              "    .dataframe tbody tr th:only-of-type {\n",
              "        vertical-align: middle;\n",
              "    }\n",
              "\n",
              "    .dataframe tbody tr th {\n",
              "        vertical-align: top;\n",
              "    }\n",
              "\n",
              "    .dataframe thead th {\n",
              "        text-align: right;\n",
              "    }\n",
              "</style>\n",
              "<table border=\"1\" class=\"dataframe\">\n",
              "  <thead>\n",
              "    <tr style=\"text-align: right;\">\n",
              "      <th></th>\n",
              "      <th>ResponseId</th>\n",
              "      <th>MainBranch</th>\n",
              "      <th>Employment</th>\n",
              "      <th>Country</th>\n",
              "      <th>US_State</th>\n",
              "      <th>UK_Country</th>\n",
              "      <th>EdLevel</th>\n",
              "      <th>Age1stCode</th>\n",
              "      <th>LearnCode</th>\n",
              "      <th>YearsCode</th>\n",
              "      <th>...</th>\n",
              "      <th>Age</th>\n",
              "      <th>Gender</th>\n",
              "      <th>Trans</th>\n",
              "      <th>Sexuality</th>\n",
              "      <th>Ethnicity</th>\n",
              "      <th>Accessibility</th>\n",
              "      <th>MentalHealth</th>\n",
              "      <th>SurveyLength</th>\n",
              "      <th>SurveyEase</th>\n",
              "      <th>ConvertedCompYearly</th>\n",
              "    </tr>\n",
              "  </thead>\n",
              "  <tbody>\n",
              "    <tr>\n",
              "      <th>0</th>\n",
              "      <td>1</td>\n",
              "      <td>I am a developer by profession</td>\n",
              "      <td>Independent contractor, freelancer, or self-em...</td>\n",
              "      <td>Slovakia</td>\n",
              "      <td>NaN</td>\n",
              "      <td>NaN</td>\n",
              "      <td>Secondary school (e.g. American high school, G...</td>\n",
              "      <td>18 - 24 years</td>\n",
              "      <td>Coding Bootcamp;Other online resources (ex: vi...</td>\n",
              "      <td>NaN</td>\n",
              "      <td>...</td>\n",
              "      <td>25-34 years old</td>\n",
              "      <td>Man</td>\n",
              "      <td>No</td>\n",
              "      <td>Straight / Heterosexual</td>\n",
              "      <td>White or of European descent</td>\n",
              "      <td>None of the above</td>\n",
              "      <td>None of the above</td>\n",
              "      <td>Appropriate in length</td>\n",
              "      <td>Easy</td>\n",
              "      <td>62268.0</td>\n",
              "    </tr>\n",
              "    <tr>\n",
              "      <th>1</th>\n",
              "      <td>2</td>\n",
              "      <td>I am a student who is learning to code</td>\n",
              "      <td>Student, full-time</td>\n",
              "      <td>Netherlands</td>\n",
              "      <td>NaN</td>\n",
              "      <td>NaN</td>\n",
              "      <td>Bachelor’s degree (B.A., B.S., B.Eng., etc.)</td>\n",
              "      <td>11 - 17 years</td>\n",
              "      <td>Other online resources (ex: videos, blogs, etc...</td>\n",
              "      <td>7</td>\n",
              "      <td>...</td>\n",
              "      <td>18-24 years old</td>\n",
              "      <td>Man</td>\n",
              "      <td>No</td>\n",
              "      <td>Straight / Heterosexual</td>\n",
              "      <td>White or of European descent</td>\n",
              "      <td>None of the above</td>\n",
              "      <td>None of the above</td>\n",
              "      <td>Appropriate in length</td>\n",
              "      <td>Easy</td>\n",
              "      <td>NaN</td>\n",
              "    </tr>\n",
              "    <tr>\n",
              "      <th>2</th>\n",
              "      <td>3</td>\n",
              "      <td>I am not primarily a developer, but I write co...</td>\n",
              "      <td>Student, full-time</td>\n",
              "      <td>Russian Federation</td>\n",
              "      <td>NaN</td>\n",
              "      <td>NaN</td>\n",
              "      <td>Bachelor’s degree (B.A., B.S., B.Eng., etc.)</td>\n",
              "      <td>11 - 17 years</td>\n",
              "      <td>Other online resources (ex: videos, blogs, etc...</td>\n",
              "      <td>NaN</td>\n",
              "      <td>...</td>\n",
              "      <td>18-24 years old</td>\n",
              "      <td>Man</td>\n",
              "      <td>No</td>\n",
              "      <td>Prefer not to say</td>\n",
              "      <td>Prefer not to say</td>\n",
              "      <td>None of the above</td>\n",
              "      <td>None of the above</td>\n",
              "      <td>Appropriate in length</td>\n",
              "      <td>Easy</td>\n",
              "      <td>NaN</td>\n",
              "    </tr>\n",
              "    <tr>\n",
              "      <th>3</th>\n",
              "      <td>4</td>\n",
              "      <td>I am a developer by profession</td>\n",
              "      <td>Employed full-time</td>\n",
              "      <td>Austria</td>\n",
              "      <td>NaN</td>\n",
              "      <td>NaN</td>\n",
              "      <td>Master’s degree (M.A., M.S., M.Eng., MBA, etc.)</td>\n",
              "      <td>11 - 17 years</td>\n",
              "      <td>NaN</td>\n",
              "      <td>NaN</td>\n",
              "      <td>...</td>\n",
              "      <td>35-44 years old</td>\n",
              "      <td>Man</td>\n",
              "      <td>No</td>\n",
              "      <td>Straight / Heterosexual</td>\n",
              "      <td>White or of European descent</td>\n",
              "      <td>I am deaf / hard of hearing</td>\n",
              "      <td>NaN</td>\n",
              "      <td>Appropriate in length</td>\n",
              "      <td>Neither easy nor difficult</td>\n",
              "      <td>NaN</td>\n",
              "    </tr>\n",
              "    <tr>\n",
              "      <th>4</th>\n",
              "      <td>5</td>\n",
              "      <td>I am a developer by profession</td>\n",
              "      <td>Independent contractor, freelancer, or self-em...</td>\n",
              "      <td>United Kingdom of Great Britain and Northern I...</td>\n",
              "      <td>NaN</td>\n",
              "      <td>England</td>\n",
              "      <td>Master’s degree (M.A., M.S., M.Eng., MBA, etc.)</td>\n",
              "      <td>5 - 10 years</td>\n",
              "      <td>Friend or family member</td>\n",
              "      <td>17</td>\n",
              "      <td>...</td>\n",
              "      <td>25-34 years old</td>\n",
              "      <td>Man</td>\n",
              "      <td>No</td>\n",
              "      <td>NaN</td>\n",
              "      <td>White or of European descent</td>\n",
              "      <td>None of the above</td>\n",
              "      <td>NaN</td>\n",
              "      <td>Appropriate in length</td>\n",
              "      <td>Easy</td>\n",
              "      <td>NaN</td>\n",
              "    </tr>\n",
              "  </tbody>\n",
              "</table>\n",
              "<p>5 rows × 48 columns</p>\n",
              "</div>"
            ],
            "text/plain": [
              "   ResponseId                                         MainBranch  \\\n",
              "0           1                     I am a developer by profession   \n",
              "1           2             I am a student who is learning to code   \n",
              "2           3  I am not primarily a developer, but I write co...   \n",
              "3           4                     I am a developer by profession   \n",
              "4           5                     I am a developer by profession   \n",
              "\n",
              "                                          Employment  \\\n",
              "0  Independent contractor, freelancer, or self-em...   \n",
              "1                                 Student, full-time   \n",
              "2                                 Student, full-time   \n",
              "3                                 Employed full-time   \n",
              "4  Independent contractor, freelancer, or self-em...   \n",
              "\n",
              "                                             Country US_State UK_Country  \\\n",
              "0                                           Slovakia      NaN        NaN   \n",
              "1                                        Netherlands      NaN        NaN   \n",
              "2                                 Russian Federation      NaN        NaN   \n",
              "3                                            Austria      NaN        NaN   \n",
              "4  United Kingdom of Great Britain and Northern I...      NaN    England   \n",
              "\n",
              "                                             EdLevel     Age1stCode  \\\n",
              "0  Secondary school (e.g. American high school, G...  18 - 24 years   \n",
              "1       Bachelor’s degree (B.A., B.S., B.Eng., etc.)  11 - 17 years   \n",
              "2       Bachelor’s degree (B.A., B.S., B.Eng., etc.)  11 - 17 years   \n",
              "3    Master’s degree (M.A., M.S., M.Eng., MBA, etc.)  11 - 17 years   \n",
              "4    Master’s degree (M.A., M.S., M.Eng., MBA, etc.)   5 - 10 years   \n",
              "\n",
              "                                           LearnCode YearsCode  ...  \\\n",
              "0  Coding Bootcamp;Other online resources (ex: vi...       NaN  ...   \n",
              "1  Other online resources (ex: videos, blogs, etc...         7  ...   \n",
              "2  Other online resources (ex: videos, blogs, etc...       NaN  ...   \n",
              "3                                                NaN       NaN  ...   \n",
              "4                            Friend or family member        17  ...   \n",
              "\n",
              "               Age Gender Trans                Sexuality  \\\n",
              "0  25-34 years old    Man    No  Straight / Heterosexual   \n",
              "1  18-24 years old    Man    No  Straight / Heterosexual   \n",
              "2  18-24 years old    Man    No        Prefer not to say   \n",
              "3  35-44 years old    Man    No  Straight / Heterosexual   \n",
              "4  25-34 years old    Man    No                      NaN   \n",
              "\n",
              "                      Ethnicity                Accessibility  \\\n",
              "0  White or of European descent            None of the above   \n",
              "1  White or of European descent            None of the above   \n",
              "2             Prefer not to say            None of the above   \n",
              "3  White or of European descent  I am deaf / hard of hearing   \n",
              "4  White or of European descent            None of the above   \n",
              "\n",
              "        MentalHealth           SurveyLength                  SurveyEase  \\\n",
              "0  None of the above  Appropriate in length                        Easy   \n",
              "1  None of the above  Appropriate in length                        Easy   \n",
              "2  None of the above  Appropriate in length                        Easy   \n",
              "3                NaN  Appropriate in length  Neither easy nor difficult   \n",
              "4                NaN  Appropriate in length                        Easy   \n",
              "\n",
              "  ConvertedCompYearly  \n",
              "0             62268.0  \n",
              "1                 NaN  \n",
              "2                 NaN  \n",
              "3                 NaN  \n",
              "4                 NaN  \n",
              "\n",
              "[5 rows x 48 columns]"
            ]
          },
          "execution_count": 4,
          "metadata": {},
          "output_type": "execute_result"
        }
      ],
      "source": [
        "df.head()"
      ]
    },
    {
      "cell_type": "code",
      "execution_count": 5,
      "metadata": {
        "colab": {
          "base_uri": "https://localhost:8080/"
        },
        "id": "5LK8yiZPe5I0",
        "outputId": "954d9b4a-f241-4f39-f7c9-30f07863a017"
      },
      "outputs": [
        {
          "name": "stdout",
          "output_type": "stream",
          "text": [
            "<class 'pandas.core.frame.DataFrame'>\n",
            "RangeIndex: 83439 entries, 0 to 83438\n",
            "Data columns (total 48 columns):\n",
            " #   Column                        Non-Null Count  Dtype  \n",
            "---  ------                        --------------  -----  \n",
            " 0   ResponseId                    83439 non-null  int64  \n",
            " 1   MainBranch                    83439 non-null  object \n",
            " 2   Employment                    83323 non-null  object \n",
            " 3   Country                       83439 non-null  object \n",
            " 4   US_State                      14920 non-null  object \n",
            " 5   UK_Country                    4418 non-null   object \n",
            " 6   EdLevel                       83126 non-null  object \n",
            " 7   Age1stCode                    83243 non-null  object \n",
            " 8   LearnCode                     82963 non-null  object \n",
            " 9   YearsCode                     81641 non-null  object \n",
            " 10  YearsCodePro                  61216 non-null  object \n",
            " 11  DevType                       66484 non-null  object \n",
            " 12  OrgSize                       60726 non-null  object \n",
            " 13  Currency                      61080 non-null  object \n",
            " 14  CompTotal                     47183 non-null  float64\n",
            " 15  CompFreq                      52150 non-null  object \n",
            " 16  LanguageHaveWorkedWith        82357 non-null  object \n",
            " 17  LanguageWantToWorkWith        76821 non-null  object \n",
            " 18  DatabaseHaveWorkedWith        69546 non-null  object \n",
            " 19  DatabaseWantToWorkWith        58299 non-null  object \n",
            " 20  PlatformHaveWorkedWith        52135 non-null  object \n",
            " 21  PlatformWantToWorkWith        41619 non-null  object \n",
            " 22  WebframeHaveWorkedWith        61707 non-null  object \n",
            " 23  WebframeWantToWorkWith        52095 non-null  object \n",
            " 24  MiscTechHaveWorkedWith        47055 non-null  object \n",
            " 25  MiscTechWantToWorkWith        38021 non-null  object \n",
            " 26  ToolsTechHaveWorkedWith       72537 non-null  object \n",
            " 27  ToolsTechWantToWorkWith       65480 non-null  object \n",
            " 28  NEWCollabToolsHaveWorkedWith  81234 non-null  object \n",
            " 29  NEWCollabToolsWantToWorkWith  73022 non-null  object \n",
            " 30  OpSys                         83294 non-null  object \n",
            " 31  NEWStuck                      83052 non-null  object \n",
            " 32  NEWSOSites                    83171 non-null  object \n",
            " 33  SOVisitFreq                   82413 non-null  object \n",
            " 34  SOAccount                     82525 non-null  object \n",
            " 35  SOPartFreq                    67553 non-null  object \n",
            " 36  SOComm                        82319 non-null  object \n",
            " 37  NEWOtherComms                 82828 non-null  object \n",
            " 38  Age                           82407 non-null  object \n",
            " 39  Gender                        82286 non-null  object \n",
            " 40  Trans                         80678 non-null  object \n",
            " 41  Sexuality                     73366 non-null  object \n",
            " 42  Ethnicity                     79464 non-null  object \n",
            " 43  Accessibility                 77603 non-null  object \n",
            " 44  MentalHealth                  76920 non-null  object \n",
            " 45  SurveyLength                  81711 non-null  object \n",
            " 46  SurveyEase                    81948 non-null  object \n",
            " 47  ConvertedCompYearly           46844 non-null  float64\n",
            "dtypes: float64(2), int64(1), object(45)\n",
            "memory usage: 30.6+ MB\n"
          ]
        }
      ],
      "source": [
        "df.info()"
      ]
    },
    {
      "cell_type": "code",
      "execution_count": 6,
      "metadata": {
        "id": "aA6Jhx9Pe7Ku"
      },
      "outputs": [],
      "source": [
        "df = df[[\"Country\", \"EdLevel\", \"YearsCodePro\", \"Employment\", \"ConvertedCompYearly\"]]"
      ]
    },
    {
      "cell_type": "code",
      "execution_count": 7,
      "metadata": {
        "id": "G6HyBE-3g7Yc"
      },
      "outputs": [],
      "source": [
        "df = df.rename({\"ConvertedCompYearly\": \"Salary\"}, axis=1)"
      ]
    },
    {
      "cell_type": "code",
      "execution_count": 8,
      "metadata": {
        "colab": {
          "base_uri": "https://localhost:8080/",
          "height": 205
        },
        "id": "eK_oIRSnhGkI",
        "outputId": "2d921c99-e145-4baa-cd0a-4b6556826577"
      },
      "outputs": [
        {
          "data": {
            "text/html": [
              "<div>\n",
              "<style scoped>\n",
              "    .dataframe tbody tr th:only-of-type {\n",
              "        vertical-align: middle;\n",
              "    }\n",
              "\n",
              "    .dataframe tbody tr th {\n",
              "        vertical-align: top;\n",
              "    }\n",
              "\n",
              "    .dataframe thead th {\n",
              "        text-align: right;\n",
              "    }\n",
              "</style>\n",
              "<table border=\"1\" class=\"dataframe\">\n",
              "  <thead>\n",
              "    <tr style=\"text-align: right;\">\n",
              "      <th></th>\n",
              "      <th>Country</th>\n",
              "      <th>EdLevel</th>\n",
              "      <th>YearsCodePro</th>\n",
              "      <th>Employment</th>\n",
              "      <th>Salary</th>\n",
              "    </tr>\n",
              "  </thead>\n",
              "  <tbody>\n",
              "    <tr>\n",
              "      <th>0</th>\n",
              "      <td>Slovakia</td>\n",
              "      <td>Secondary school (e.g. American high school, G...</td>\n",
              "      <td>NaN</td>\n",
              "      <td>Independent contractor, freelancer, or self-em...</td>\n",
              "      <td>62268.0</td>\n",
              "    </tr>\n",
              "    <tr>\n",
              "      <th>1</th>\n",
              "      <td>Netherlands</td>\n",
              "      <td>Bachelor’s degree (B.A., B.S., B.Eng., etc.)</td>\n",
              "      <td>NaN</td>\n",
              "      <td>Student, full-time</td>\n",
              "      <td>NaN</td>\n",
              "    </tr>\n",
              "    <tr>\n",
              "      <th>2</th>\n",
              "      <td>Russian Federation</td>\n",
              "      <td>Bachelor’s degree (B.A., B.S., B.Eng., etc.)</td>\n",
              "      <td>NaN</td>\n",
              "      <td>Student, full-time</td>\n",
              "      <td>NaN</td>\n",
              "    </tr>\n",
              "    <tr>\n",
              "      <th>3</th>\n",
              "      <td>Austria</td>\n",
              "      <td>Master’s degree (M.A., M.S., M.Eng., MBA, etc.)</td>\n",
              "      <td>NaN</td>\n",
              "      <td>Employed full-time</td>\n",
              "      <td>NaN</td>\n",
              "    </tr>\n",
              "    <tr>\n",
              "      <th>4</th>\n",
              "      <td>United Kingdom of Great Britain and Northern I...</td>\n",
              "      <td>Master’s degree (M.A., M.S., M.Eng., MBA, etc.)</td>\n",
              "      <td>10</td>\n",
              "      <td>Independent contractor, freelancer, or self-em...</td>\n",
              "      <td>NaN</td>\n",
              "    </tr>\n",
              "  </tbody>\n",
              "</table>\n",
              "</div>"
            ],
            "text/plain": [
              "                                             Country  \\\n",
              "0                                           Slovakia   \n",
              "1                                        Netherlands   \n",
              "2                                 Russian Federation   \n",
              "3                                            Austria   \n",
              "4  United Kingdom of Great Britain and Northern I...   \n",
              "\n",
              "                                             EdLevel YearsCodePro  \\\n",
              "0  Secondary school (e.g. American high school, G...          NaN   \n",
              "1       Bachelor’s degree (B.A., B.S., B.Eng., etc.)          NaN   \n",
              "2       Bachelor’s degree (B.A., B.S., B.Eng., etc.)          NaN   \n",
              "3    Master’s degree (M.A., M.S., M.Eng., MBA, etc.)          NaN   \n",
              "4    Master’s degree (M.A., M.S., M.Eng., MBA, etc.)           10   \n",
              "\n",
              "                                          Employment   Salary  \n",
              "0  Independent contractor, freelancer, or self-em...  62268.0  \n",
              "1                                 Student, full-time      NaN  \n",
              "2                                 Student, full-time      NaN  \n",
              "3                                 Employed full-time      NaN  \n",
              "4  Independent contractor, freelancer, or self-em...      NaN  "
            ]
          },
          "execution_count": 8,
          "metadata": {},
          "output_type": "execute_result"
        }
      ],
      "source": [
        "df.head()"
      ]
    },
    {
      "cell_type": "code",
      "execution_count": 9,
      "metadata": {
        "colab": {
          "base_uri": "https://localhost:8080/",
          "height": 205
        },
        "id": "U7BFilQPhHs4",
        "outputId": "7b5b52ab-f887-4b13-d1bb-3169e243ee64"
      },
      "outputs": [
        {
          "data": {
            "text/html": [
              "<div>\n",
              "<style scoped>\n",
              "    .dataframe tbody tr th:only-of-type {\n",
              "        vertical-align: middle;\n",
              "    }\n",
              "\n",
              "    .dataframe tbody tr th {\n",
              "        vertical-align: top;\n",
              "    }\n",
              "\n",
              "    .dataframe thead th {\n",
              "        text-align: right;\n",
              "    }\n",
              "</style>\n",
              "<table border=\"1\" class=\"dataframe\">\n",
              "  <thead>\n",
              "    <tr style=\"text-align: right;\">\n",
              "      <th></th>\n",
              "      <th>Country</th>\n",
              "      <th>EdLevel</th>\n",
              "      <th>YearsCodePro</th>\n",
              "      <th>Employment</th>\n",
              "      <th>Salary</th>\n",
              "    </tr>\n",
              "  </thead>\n",
              "  <tbody>\n",
              "    <tr>\n",
              "      <th>0</th>\n",
              "      <td>Slovakia</td>\n",
              "      <td>Secondary school (e.g. American high school, G...</td>\n",
              "      <td>NaN</td>\n",
              "      <td>Independent contractor, freelancer, or self-em...</td>\n",
              "      <td>62268.0</td>\n",
              "    </tr>\n",
              "    <tr>\n",
              "      <th>9</th>\n",
              "      <td>Sweden</td>\n",
              "      <td>Master’s degree (M.A., M.S., M.Eng., MBA, etc.)</td>\n",
              "      <td>4</td>\n",
              "      <td>Employed full-time</td>\n",
              "      <td>51552.0</td>\n",
              "    </tr>\n",
              "    <tr>\n",
              "      <th>11</th>\n",
              "      <td>Spain</td>\n",
              "      <td>Bachelor’s degree (B.A., B.S., B.Eng., etc.)</td>\n",
              "      <td>5</td>\n",
              "      <td>Employed full-time</td>\n",
              "      <td>46482.0</td>\n",
              "    </tr>\n",
              "    <tr>\n",
              "      <th>12</th>\n",
              "      <td>Germany</td>\n",
              "      <td>Master’s degree (M.A., M.S., M.Eng., MBA, etc.)</td>\n",
              "      <td>6</td>\n",
              "      <td>Employed full-time</td>\n",
              "      <td>77290.0</td>\n",
              "    </tr>\n",
              "    <tr>\n",
              "      <th>16</th>\n",
              "      <td>Turkey</td>\n",
              "      <td>Bachelor’s degree (B.A., B.S., B.Eng., etc.)</td>\n",
              "      <td>2</td>\n",
              "      <td>Employed full-time</td>\n",
              "      <td>17748.0</td>\n",
              "    </tr>\n",
              "  </tbody>\n",
              "</table>\n",
              "</div>"
            ],
            "text/plain": [
              "     Country                                            EdLevel YearsCodePro  \\\n",
              "0   Slovakia  Secondary school (e.g. American high school, G...          NaN   \n",
              "9     Sweden    Master’s degree (M.A., M.S., M.Eng., MBA, etc.)            4   \n",
              "11     Spain       Bachelor’s degree (B.A., B.S., B.Eng., etc.)            5   \n",
              "12   Germany    Master’s degree (M.A., M.S., M.Eng., MBA, etc.)            6   \n",
              "16    Turkey       Bachelor’s degree (B.A., B.S., B.Eng., etc.)            2   \n",
              "\n",
              "                                           Employment   Salary  \n",
              "0   Independent contractor, freelancer, or self-em...  62268.0  \n",
              "9                                  Employed full-time  51552.0  \n",
              "11                                 Employed full-time  46482.0  \n",
              "12                                 Employed full-time  77290.0  \n",
              "16                                 Employed full-time  17748.0  "
            ]
          },
          "execution_count": 9,
          "metadata": {},
          "output_type": "execute_result"
        }
      ],
      "source": [
        "df = df[df[\"Salary\"].notnull()]\n",
        "df.head()"
      ]
    },
    {
      "cell_type": "code",
      "execution_count": 10,
      "metadata": {
        "colab": {
          "base_uri": "https://localhost:8080/"
        },
        "id": "cokYhBF_hRf4",
        "outputId": "d8c57a70-1c97-4d14-fd44-7a0e3e38fcc9"
      },
      "outputs": [
        {
          "name": "stdout",
          "output_type": "stream",
          "text": [
            "<class 'pandas.core.frame.DataFrame'>\n",
            "Int64Index: 46844 entries, 0 to 83438\n",
            "Data columns (total 5 columns):\n",
            " #   Column        Non-Null Count  Dtype  \n",
            "---  ------        --------------  -----  \n",
            " 0   Country       46844 non-null  object \n",
            " 1   EdLevel       46823 non-null  object \n",
            " 2   YearsCodePro  46391 non-null  object \n",
            " 3   Employment    46831 non-null  object \n",
            " 4   Salary        46844 non-null  float64\n",
            "dtypes: float64(1), object(4)\n",
            "memory usage: 2.1+ MB\n"
          ]
        }
      ],
      "source": [
        "df.info()"
      ]
    },
    {
      "cell_type": "code",
      "execution_count": 11,
      "metadata": {
        "colab": {
          "base_uri": "https://localhost:8080/"
        },
        "id": "nEhrPwQIhZsM",
        "outputId": "e115a26c-c1c8-4520-ea1f-62ca2b213bda"
      },
      "outputs": [
        {
          "data": {
            "text/plain": [
              "Country         0\n",
              "EdLevel         0\n",
              "YearsCodePro    0\n",
              "Employment      0\n",
              "Salary          0\n",
              "dtype: int64"
            ]
          },
          "execution_count": 11,
          "metadata": {},
          "output_type": "execute_result"
        }
      ],
      "source": [
        "df = df.dropna()\n",
        "df.isnull().sum()"
      ]
    },
    {
      "cell_type": "code",
      "execution_count": 12,
      "metadata": {
        "colab": {
          "base_uri": "https://localhost:8080/"
        },
        "id": "zKxKDzTViNxd",
        "outputId": "472fc012-7962-4cc0-dee5-186f20646e56"
      },
      "outputs": [
        {
          "name": "stdout",
          "output_type": "stream",
          "text": [
            "<class 'pandas.core.frame.DataFrame'>\n",
            "Int64Index: 46359 entries, 9 to 83438\n",
            "Data columns (total 5 columns):\n",
            " #   Column        Non-Null Count  Dtype  \n",
            "---  ------        --------------  -----  \n",
            " 0   Country       46359 non-null  object \n",
            " 1   EdLevel       46359 non-null  object \n",
            " 2   YearsCodePro  46359 non-null  object \n",
            " 3   Employment    46359 non-null  object \n",
            " 4   Salary        46359 non-null  float64\n",
            "dtypes: float64(1), object(4)\n",
            "memory usage: 2.1+ MB\n"
          ]
        }
      ],
      "source": [
        "df.info()"
      ]
    },
    {
      "cell_type": "code",
      "execution_count": 13,
      "metadata": {
        "id": "51ezhWaeiPth"
      },
      "outputs": [],
      "source": [
        "df = df[df[\"Employment\"] == \"Employed full-time\"]"
      ]
    },
    {
      "cell_type": "code",
      "execution_count": 14,
      "metadata": {
        "colab": {
          "base_uri": "https://localhost:8080/"
        },
        "id": "cl6jV1YpioYm",
        "outputId": "aa130a8b-2193-4a11-d1ad-0be551e582ce"
      },
      "outputs": [
        {
          "name": "stdout",
          "output_type": "stream",
          "text": [
            "<class 'pandas.core.frame.DataFrame'>\n",
            "Int64Index: 40211 entries, 9 to 83438\n",
            "Data columns (total 4 columns):\n",
            " #   Column        Non-Null Count  Dtype  \n",
            "---  ------        --------------  -----  \n",
            " 0   Country       40211 non-null  object \n",
            " 1   EdLevel       40211 non-null  object \n",
            " 2   YearsCodePro  40211 non-null  object \n",
            " 3   Salary        40211 non-null  float64\n",
            "dtypes: float64(1), object(3)\n",
            "memory usage: 1.5+ MB\n"
          ]
        }
      ],
      "source": [
        "df = df.drop(\"Employment\", axis=1)\n",
        "df.info()"
      ]
    },
    {
      "cell_type": "code",
      "execution_count": 15,
      "metadata": {
        "colab": {
          "base_uri": "https://localhost:8080/"
        },
        "id": "KEggXUsaixDb",
        "outputId": "5df0b63c-fe8d-4747-8f85-9c724552610f"
      },
      "outputs": [
        {
          "data": {
            "text/plain": [
              "United States of America                                9175\n",
              "India                                                   3385\n",
              "Germany                                                 2753\n",
              "United Kingdom of Great Britain and Northern Ireland    2604\n",
              "Canada                                                  1553\n",
              "                                                        ... \n",
              "Lesotho                                                    1\n",
              "Somalia                                                    1\n",
              "Burundi                                                    1\n",
              "Saint Kitts and Nevis                                      1\n",
              "Cape Verde                                                 1\n",
              "Name: Country, Length: 166, dtype: int64"
            ]
          },
          "execution_count": 15,
          "metadata": {},
          "output_type": "execute_result"
        }
      ],
      "source": [
        "df['Country'].value_counts()"
      ]
    },
    {
      "cell_type": "code",
      "execution_count": 16,
      "metadata": {
        "id": "BzloOAGijG7H"
      },
      "outputs": [],
      "source": [
        "def shorten_categories(categories, cutoff):\n",
        "    hashmap = {}\n",
        "    for i in range(len(categories)):\n",
        "        if categories.values[i] >= cutoff:\n",
        "            hashmap[categories.index[i]] = categories.index[i]\n",
        "        else:\n",
        "            hashmap[categories.index[i]] = 'Other'\n",
        "    return hashmap"
      ]
    },
    {
      "cell_type": "code",
      "execution_count": 17,
      "metadata": {
        "colab": {
          "base_uri": "https://localhost:8080/"
        },
        "id": "cMoUTe2SkfMp",
        "outputId": "5c3d9861-86ac-4ecf-b045-7bcf3f423bab"
      },
      "outputs": [
        {
          "data": {
            "text/plain": [
              "Other                                                   10725\n",
              "United States of America                                 9175\n",
              "India                                                    3385\n",
              "Germany                                                  2753\n",
              "United Kingdom of Great Britain and Northern Ireland     2604\n",
              "Canada                                                   1553\n",
              "France                                                   1396\n",
              "Brazil                                                   1340\n",
              "Spain                                                     890\n",
              "Netherlands                                               835\n",
              "Australia                                                 825\n",
              "Poland                                                    775\n",
              "Italy                                                     756\n",
              "Russian Federation                                        741\n",
              "Sweden                                                    735\n",
              "Turkey                                                    458\n",
              "Switzerland                                               438\n",
              "Israel                                                    425\n",
              "Norway                                                    402\n",
              "Name: Country, dtype: int64"
            ]
          },
          "execution_count": 17,
          "metadata": {},
          "output_type": "execute_result"
        }
      ],
      "source": [
        "country_map = shorten_categories(df.Country.value_counts(), 400)\n",
        "df['Country'] = df['Country'].map(country_map)\n",
        "df['Country'].value_counts()"
      ]
    },
    {
      "cell_type": "code",
      "execution_count": 18,
      "metadata": {
        "colab": {
          "base_uri": "https://localhost:8080/",
          "height": 795
        },
        "id": "76xyOIpZkv8a",
        "outputId": "2c469c4d-c5d2-43f1-c0e5-27120f26d024"
      },
      "outputs": [
        {
          "data": {
            "image/png": "[encoded data removed]",
            "text/plain": [
              "<Figure size 864x504 with 1 Axes>"
            ]
          },
          "metadata": {
            "needs_background": "light"
          },
          "output_type": "display_data"
        }
      ],
      "source": [
        "fig, ax = plt.subplots(1,1, figsize=(12, 7))\n",
        "df.boxplot('Salary', 'Country', ax=ax)\n",
        "plt.suptitle('Salary (US$) v Country')\n",
        "plt.title('')\n",
        "plt.ylabel('Salary')\n",
        "plt.xticks(rotation=90)\n",
        "plt.show()"
      ]
    },
    {
      "cell_type": "code",
      "execution_count": 19,
      "metadata": {
        "id": "I4IeVWjgltml"
      },
      "outputs": [],
      "source": [
        "df = df[df[\"Salary\"] <= 200000]\n",
        "df = df[df['Salary'] >= 10000]\n",
        "df = df[df['Country'] != 'Other']"
      ]
    },
    {
      "cell_type": "code",
      "execution_count": 20,
      "metadata": {
        "colab": {
          "base_uri": "https://localhost:8080/",
          "height": 795
        },
        "id": "eD1BJlhdmtJB",
        "outputId": "48182371-66df-48de-9d62-34c11dac22c9"
      },
      "outputs": [
        {
          "data": {
            "image/png": "[encoded data removed]",
            "text/plain": [
              "<Figure size 864x504 with 1 Axes>"
            ]
          },
          "metadata": {
            "needs_background": "light"
          },
          "output_type": "display_data"
        }
      ],
      "source": [
        "fig, ax = plt.subplots(1,1, figsize=(12, 7))\n",
        "df.boxplot('Salary', 'Country', ax=ax)\n",
        "plt.suptitle('Salary (US$) v Country')\n",
        "plt.title('')\n",
        "plt.ylabel('Salary')\n",
        "plt.xticks(rotation=90)\n",
        "plt.show()"
      ]
    },
    {
      "cell_type": "code",
      "execution_count": 21,
      "metadata": {
        "colab": {
          "base_uri": "https://localhost:8080/"
        },
        "id": "N3oz-KzRnkMu",
        "outputId": "ac985d0a-5c21-4f05-d24b-8e0954633ef3"
      },
      "outputs": [
        {
          "data": {
            "text/plain": [
              "array(['4', '5', '6', '2', '18', '21', '16', '10', 'Less than 1 year',\n",
              "       '3', '15', '12', '8', '17', '1', '14', '26', '34', '11', '25',\n",
              "       '24', '22', '13', '9', '7', '39', '20', '27', '23', '30', '19',\n",
              "       '35', '33', '43', '40', '29', '38', '31', '42', '28', '46', '32',\n",
              "       '36', '37', '47', '45', '44', '41', 'More than 50 years', '50',\n",
              "       '49', '48'], dtype=object)"
            ]
          },
          "execution_count": 21,
          "metadata": {},
          "output_type": "execute_result"
        }
      ],
      "source": [
        "df[\"YearsCodePro\"].unique()"
      ]
    },
    {
      "cell_type": "code",
      "execution_count": 22,
      "metadata": {
        "id": "WHbdxQsPoNtj"
      },
      "outputs": [],
      "source": [
        "def clean_ex(ex):\n",
        "    if ex == \"More than 50 years\":\n",
        "        return 50\n",
        "    elif ex == \"Less than 1 year\":\n",
        "        return 0.5\n",
        "    return float(ex)"
      ]
    },
    {
      "cell_type": "code",
      "execution_count": 23,
      "metadata": {
        "id": "hPdh8xLponAS"
      },
      "outputs": [],
      "source": [
        "df['YearsCodePro'] = df['YearsCodePro'].apply(clean_ex)"
      ]
    },
    {
      "cell_type": "code",
      "execution_count": 24,
      "metadata": {
        "colab": {
          "base_uri": "https://localhost:8080/"
        },
        "id": "KtzPtZcooziy",
        "outputId": "fab9db94-a3b8-4a38-e328-66343c38880e"
      },
      "outputs": [
        {
          "data": {
            "text/plain": [
              "array(['Master’s degree (M.A., M.S., M.Eng., MBA, etc.)',\n",
              "       'Bachelor’s degree (B.A., B.S., B.Eng., etc.)',\n",
              "       'Professional degree (JD, MD, etc.)',\n",
              "       'Some college/university study without earning a degree',\n",
              "       'Other doctoral degree (Ph.D., Ed.D., etc.)', 'Something else',\n",
              "       'Primary/elementary school', 'Associate degree (A.A., A.S., etc.)',\n",
              "       'Secondary school (e.g. American high school, German Realschule or Gymnasium, etc.)'],\n",
              "      dtype=object)"
            ]
          },
          "execution_count": 24,
          "metadata": {},
          "output_type": "execute_result"
        }
      ],
      "source": [
        "df['EdLevel'].unique()"
      ]
    },
    {
      "cell_type": "code",
      "execution_count": 25,
      "metadata": {
        "id": "SOqMMau0pXHC"
      },
      "outputs": [],
      "source": [
        "def clean_education(x):\n",
        "    if 'Bachelor’s degree' in x:\n",
        "        return 'Bachelor’s degree'\n",
        "    if 'Master’s degree' in x:\n",
        "        return 'Master’s degree'\n",
        "    if 'Professional degree' in x or 'Other doctoral' in x:\n",
        "        return 'Post grad'\n",
        "    return 'Less than a Bachelors'"
      ]
    },
    {
      "cell_type": "code",
      "execution_count": 26,
      "metadata": {
        "id": "TsVWkHt4qXSZ"
      },
      "outputs": [],
      "source": [
        "df['EdLevel'] = df['EdLevel'].apply(clean_education)"
      ]
    },
    {
      "cell_type": "code",
      "execution_count": 27,
      "metadata": {
        "colab": {
          "base_uri": "https://localhost:8080/"
        },
        "id": "fWW9Jom1qhK1",
        "outputId": "f3c983cf-88bd-4eca-b288-6e4e80638e7d"
      },
      "outputs": [
        {
          "data": {
            "text/plain": [
              "array(['Master’s degree', 'Bachelor’s degree', 'Post grad',\n",
              "       'Less than a Bachelors'], dtype=object)"
            ]
          },
          "execution_count": 27,
          "metadata": {},
          "output_type": "execute_result"
        }
      ],
      "source": [
        "df['EdLevel'].unique()"
      ]
    },
    {
      "cell_type": "code",
      "execution_count": null,
      "metadata": {
        "id": "jz_6AUJ8qjWR"
      },
      "outputs": [],
      "source": []
    },
    {
      "cell_type": "code",
      "execution_count": null,
      "metadata": {
        "id": "HQzWl0HmrI9c"
      },
      "outputs": [],
      "source": []
    },
    {
      "cell_type": "code",
      "execution_count": 28,
      "metadata": {
        "id": "tPT_Mq8arIvB"
      },
      "outputs": [],
      "source": [
        "from sklearn.preprocessing import LabelEncoder"
      ]
    },
    {
      "cell_type": "code",
      "execution_count": 29,
      "metadata": {
        "colab": {
          "base_uri": "https://localhost:8080/"
        },
        "id": "JNrg5jb1rPIJ",
        "outputId": "9e6ab91d-84f3-4ece-b804-3cd9a899668a"
      },
      "outputs": [
        {
          "data": {
            "text/plain": [
              "array([2, 0, 3, 1])"
            ]
          },
          "execution_count": 29,
          "metadata": {},
          "output_type": "execute_result"
        }
      ],
      "source": [
        "le_education = LabelEncoder()\n",
        "df['EdLevel'] = le_education.fit_transform(df['EdLevel'])\n",
        "df[\"EdLevel\"].unique()"
      ]
    },
    {
      "cell_type": "code",
      "execution_count": 30,
      "metadata": {
        "colab": {
          "base_uri": "https://localhost:8080/"
        },
        "id": "S-AlsJ_grbaY",
        "outputId": "32faa062-3724-4e11-9dd9-f3219c8a049d"
      },
      "outputs": [
        {
          "data": {
            "text/plain": [
              "array([13, 12,  4, 15,  2,  3, 14, 16, 11,  6, 17,  1,  7,  8, 10,  0,  5,\n",
              "        9])"
            ]
          },
          "execution_count": 30,
          "metadata": {},
          "output_type": "execute_result"
        }
      ],
      "source": [
        "le_country = LabelEncoder()\n",
        "df['Country'] = le_country.fit_transform(df['Country'])\n",
        "df[\"Country\"].unique()"
      ]
    },
    {
      "cell_type": "code",
      "execution_count": 31,
      "metadata": {
        "id": "lyQTiPKhrr7Y"
      },
      "outputs": [],
      "source": [
        "X = df.drop(\"Salary\", axis=1)\n",
        "y = df[\"Salary\"]"
      ]
    },
    {
      "cell_type": "code",
      "execution_count": null,
      "metadata": {},
      "outputs": [],
      "source": []
    },
    {
      "cell_type": "code",
      "execution_count": 32,
      "metadata": {},
      "outputs": [],
      "source": [
        "from sklearn.model_selection import train_test_split"
      ]
    },
    {
      "cell_type": "code",
      "execution_count": 33,
      "metadata": {},
      "outputs": [],
      "source": [
        "X_train, X_test, y_train, y_test = train_test_split(X, y, test_size=0.3)"
      ]
    },
    {
      "cell_type": "code",
      "execution_count": null,
      "metadata": {},
      "outputs": [],
      "source": []
    },
    {
      "cell_type": "code",
      "execution_count": 34,
      "metadata": {
        "colab": {
          "base_uri": "https://localhost:8080/"
        },
        "id": "hloQEAFcsCpc",
        "outputId": "8bbd43d2-a671-4aca-c8f0-f6734716efd4"
      },
      "outputs": [
        {
          "data": {
            "text/plain": [
              "LinearRegression()"
            ]
          },
          "execution_count": 34,
          "metadata": {},
          "output_type": "execute_result"
        }
      ],
      "source": [
        "from sklearn.linear_model import LinearRegression\n",
        "linear_reg = LinearRegression()\n",
        "linear_reg.fit(X_train, y_train.values)"
      ]
    },
    {
      "cell_type": "code",
      "execution_count": 35,
      "metadata": {
        "id": "xlq0Vyu1sI_B"
      },
      "outputs": [],
      "source": [
        "y_pred = linear_reg.predict(X_test)"
      ]
    },
    {
      "cell_type": "code",
      "execution_count": 36,
      "metadata": {
        "id": "L5-4iLGfsMoz"
      },
      "outputs": [],
      "source": [
        "from sklearn.metrics import mean_squared_error, mean_absolute_error\n",
        "import numpy as np\n",
        "error = np.sqrt(mean_squared_error(y_test, y_pred))"
      ]
    },
    {
      "cell_type": "code",
      "execution_count": 37,
      "metadata": {
        "colab": {
          "base_uri": "https://localhost:8080/"
        },
        "id": "VdrB77cfsRGl",
        "outputId": "9bb6bad4-c9b8-4745-b794-e95751d213e8"
      },
      "outputs": [
        {
          "name": "stdout",
          "output_type": "stream",
          "text": [
            "$37,435.25\n"
          ]
        }
      ],
      "source": [
        "print(\"${:,.02f}\".format(error))"
      ]
    },
    {
      "cell_type": "code",
      "execution_count": null,
      "metadata": {
        "id": "Va36as78sSuF"
      },
      "outputs": [],
      "source": []
    },
    {
      "cell_type": "code",
      "execution_count": null,
      "metadata": {
        "id": "Uj9bboYssWdm"
      },
      "outputs": [],
      "source": []
    },
    {
      "cell_type": "code",
      "execution_count": 38,
      "metadata": {
        "colab": {
          "base_uri": "https://localhost:8080/"
        },
        "id": "_C_WO2t1sWQk",
        "outputId": "f6a887c9-0226-4f6a-bea5-5f84a684edc3"
      },
      "outputs": [
        {
          "data": {
            "text/plain": [
              "DecisionTreeRegressor(random_state=0)"
            ]
          },
          "execution_count": 38,
          "metadata": {},
          "output_type": "execute_result"
        }
      ],
      "source": [
        "from sklearn.tree import DecisionTreeRegressor\n",
        "dec_tree_reg = DecisionTreeRegressor(random_state=0)\n",
        "dec_tree_reg.fit(X_train, y_train.values)"
      ]
    },
    {
      "cell_type": "code",
      "execution_count": 39,
      "metadata": {
        "id": "XEgjdRxmsXa5"
      },
      "outputs": [],
      "source": [
        "y_pred = dec_tree_reg.predict(X_test)"
      ]
    },
    {
      "cell_type": "code",
      "execution_count": 40,
      "metadata": {
        "colab": {
          "base_uri": "https://localhost:8080/"
        },
        "id": "UyQXqw72sbQs",
        "outputId": "c316035a-9d84-400f-a100-44701672935f"
      },
      "outputs": [
        {
          "name": "stdout",
          "output_type": "stream",
          "text": [
            "$29,446.67\n"
          ]
        }
      ],
      "source": [
        "error = np.sqrt(mean_squared_error(y_test, y_pred))\n",
        "print(\"${:,.02f}\".format(error))"
      ]
    },
    {
      "cell_type": "code",
      "execution_count": null,
      "metadata": {
        "id": "JRwt3lGMsd_z"
      },
      "outputs": [],
      "source": []
    },
    {
      "cell_type": "code",
      "execution_count": null,
      "metadata": {
        "id": "tMYVv4uwsniI"
      },
      "outputs": [],
      "source": []
    },
    {
      "cell_type": "code",
      "execution_count": 41,
      "metadata": {
        "colab": {
          "base_uri": "https://localhost:8080/"
        },
        "id": "DGbibROBsnXd",
        "outputId": "e3f43d81-6200-4060-8f22-51d68d26ea2e"
      },
      "outputs": [
        {
          "data": {
            "text/plain": [
              "RandomForestRegressor(random_state=0)"
            ]
          },
          "execution_count": 41,
          "metadata": {},
          "output_type": "execute_result"
        }
      ],
      "source": [
        "from sklearn.ensemble import RandomForestRegressor\n",
        "random_forest_reg = RandomForestRegressor(random_state=0)\n",
        "random_forest_reg.fit(X_train, y_train.values)"
      ]
    },
    {
      "cell_type": "code",
      "execution_count": 42,
      "metadata": {
        "id": "BU7lhHxRsq0h"
      },
      "outputs": [],
      "source": [
        "y_pred = random_forest_reg.predict(X_test)"
      ]
    },
    {
      "cell_type": "code",
      "execution_count": 43,
      "metadata": {
        "colab": {
          "base_uri": "https://localhost:8080/"
        },
        "id": "r77hlbPNsuFq",
        "outputId": "f6e21ceb-442b-43c5-def6-47d40441468b"
      },
      "outputs": [
        {
          "name": "stdout",
          "output_type": "stream",
          "text": [
            "$29,078.03\n"
          ]
        }
      ],
      "source": [
        "error = np.sqrt(mean_squared_error(y_test, y_pred))\n",
        "print(\"${:,.02f}\".format(error))"
      ]
    },
    {
      "cell_type": "code",
      "execution_count": null,
      "metadata": {
        "id": "fi7wn7FGswh5"
      },
      "outputs": [],
      "source": []
    },
    {
      "cell_type": "code",
      "execution_count": null,
      "metadata": {
        "id": "V300PyQZszTa"
      },
      "outputs": [],
      "source": []
    },
    {
      "cell_type": "code",
      "execution_count": 44,
      "metadata": {
        "colab": {
          "base_uri": "https://localhost:8080/"
        },
        "id": "rOLSnIUHszFY",
        "outputId": "6d2453c5-3ac9-4d0d-dc45-61d1f61b675d"
      },
      "outputs": [
        {
          "data": {
            "text/plain": [
              "GridSearchCV(estimator=DecisionTreeRegressor(random_state=0),\n",
              "             param_grid={'max_depth': [None, 2, 4, 6, 8, 10, 12]},\n",
              "             scoring='neg_mean_squared_error')"
            ]
          },
          "execution_count": 44,
          "metadata": {},
          "output_type": "execute_result"
        }
      ],
      "source": [
        "from sklearn.model_selection import GridSearchCV\n",
        "\n",
        "max_depth = [None, 2,4,6,8,10,12]\n",
        "parameters = {\"max_depth\": max_depth}\n",
        "\n",
        "regressor = DecisionTreeRegressor(random_state=0)\n",
        "gs = GridSearchCV(regressor, parameters, scoring='neg_mean_squared_error')\n",
        "gs.fit(X_train, y_train.values)"
      ]
    },
    {
      "cell_type": "code",
      "execution_count": 45,
      "metadata": {
        "colab": {
          "base_uri": "https://localhost:8080/"
        },
        "id": "BX4Yw0dqs123",
        "outputId": "4d610fc5-5448-421b-cef8-0df82a2124fd"
      },
      "outputs": [
        {
          "name": "stdout",
          "output_type": "stream",
          "text": [
            "$28,766.56\n"
          ]
        }
      ],
      "source": [
        "regressor = gs.best_estimator_\n",
        "\n",
        "regressor.fit(X_train, y_train.values)\n",
        "y_pred = regressor.predict(X_test)\n",
        "error = np.sqrt(mean_squared_error(y_test, y_pred))\n",
        "print(\"${:,.02f}\".format(error))"
      ]
    },
    {
      "cell_type": "code",
      "execution_count": null,
      "metadata": {
        "id": "PINJZKvFs-bC"
      },
      "outputs": [],
      "source": []
    },
    {
      "cell_type": "code",
      "execution_count": null,
      "metadata": {
        "id": "_i4wML2es-Oz"
      },
      "outputs": [],
      "source": []
    },
    {
      "cell_type": "code",
      "execution_count": 46,
      "metadata": {
        "colab": {
          "base_uri": "https://localhost:8080/",
          "height": 422
        },
        "id": "ZMSJJeqzs5XT",
        "outputId": "16741cbe-37f5-455e-b4c2-0f431e2f8887"
      },
      "outputs": [
        {
          "data": {
            "text/html": [
              "<div>\n",
              "<style scoped>\n",
              "    .dataframe tbody tr th:only-of-type {\n",
              "        vertical-align: middle;\n",
              "    }\n",
              "\n",
              "    .dataframe tbody tr th {\n",
              "        vertical-align: top;\n",
              "    }\n",
              "\n",
              "    .dataframe thead th {\n",
              "        text-align: right;\n",
              "    }\n",
              "</style>\n",
              "<table border=\"1\" class=\"dataframe\">\n",
              "  <thead>\n",
              "    <tr style=\"text-align: right;\">\n",
              "      <th></th>\n",
              "      <th>Country</th>\n",
              "      <th>EdLevel</th>\n",
              "      <th>YearsCodePro</th>\n",
              "    </tr>\n",
              "  </thead>\n",
              "  <tbody>\n",
              "    <tr>\n",
              "      <th>9</th>\n",
              "      <td>13</td>\n",
              "      <td>2</td>\n",
              "      <td>4.0</td>\n",
              "    </tr>\n",
              "    <tr>\n",
              "      <th>11</th>\n",
              "      <td>12</td>\n",
              "      <td>0</td>\n",
              "      <td>5.0</td>\n",
              "    </tr>\n",
              "    <tr>\n",
              "      <th>12</th>\n",
              "      <td>4</td>\n",
              "      <td>2</td>\n",
              "      <td>6.0</td>\n",
              "    </tr>\n",
              "    <tr>\n",
              "      <th>16</th>\n",
              "      <td>15</td>\n",
              "      <td>0</td>\n",
              "      <td>2.0</td>\n",
              "    </tr>\n",
              "    <tr>\n",
              "      <th>17</th>\n",
              "      <td>2</td>\n",
              "      <td>0</td>\n",
              "      <td>6.0</td>\n",
              "    </tr>\n",
              "    <tr>\n",
              "      <th>...</th>\n",
              "      <td>...</td>\n",
              "      <td>...</td>\n",
              "      <td>...</td>\n",
              "    </tr>\n",
              "    <tr>\n",
              "      <th>83430</th>\n",
              "      <td>17</td>\n",
              "      <td>2</td>\n",
              "      <td>21.0</td>\n",
              "    </tr>\n",
              "    <tr>\n",
              "      <th>83432</th>\n",
              "      <td>2</td>\n",
              "      <td>0</td>\n",
              "      <td>0.5</td>\n",
              "    </tr>\n",
              "    <tr>\n",
              "      <th>83434</th>\n",
              "      <td>17</td>\n",
              "      <td>0</td>\n",
              "      <td>5.0</td>\n",
              "    </tr>\n",
              "    <tr>\n",
              "      <th>83436</th>\n",
              "      <td>17</td>\n",
              "      <td>1</td>\n",
              "      <td>4.0</td>\n",
              "    </tr>\n",
              "    <tr>\n",
              "      <th>83438</th>\n",
              "      <td>1</td>\n",
              "      <td>3</td>\n",
              "      <td>4.0</td>\n",
              "    </tr>\n",
              "  </tbody>\n",
              "</table>\n",
              "<p>25580 rows × 3 columns</p>\n",
              "</div>"
            ],
            "text/plain": [
              "       Country  EdLevel  YearsCodePro\n",
              "9           13        2           4.0\n",
              "11          12        0           5.0\n",
              "12           4        2           6.0\n",
              "16          15        0           2.0\n",
              "17           2        0           6.0\n",
              "...        ...      ...           ...\n",
              "83430       17        2          21.0\n",
              "83432        2        0           0.5\n",
              "83434       17        0           5.0\n",
              "83436       17        1           4.0\n",
              "83438        1        3           4.0\n",
              "\n",
              "[25580 rows x 3 columns]"
            ]
          },
          "execution_count": 46,
          "metadata": {},
          "output_type": "execute_result"
        }
      ],
      "source": [
        "X"
      ]
    },
    {
      "cell_type": "code",
      "execution_count": 47,
      "metadata": {
        "colab": {
          "base_uri": "https://localhost:8080/"
        },
        "id": "vWSZ6kKBs9g_",
        "outputId": "48490fe1-e06d-485b-b2ae-0baa7fefbf22"
      },
      "outputs": [
        {
          "data": {
            "text/plain": [
              "array([[17.,  2., 15.]])"
            ]
          },
          "execution_count": 47,
          "metadata": {},
          "output_type": "execute_result"
        }
      ],
      "source": [
        "X = np.array([[\"United States of America\", \"Master’s degree\", 15 ]])\n",
        "X[:, 0] = le_country.transform(X[:,0])\n",
        "X[:, 1] = le_education.transform(X[:,1])\n",
        "X = X.astype(float)\n",
        "X"
      ]
    },
    {
      "cell_type": "code",
      "execution_count": 48,
      "metadata": {
        "colab": {
          "base_uri": "https://localhost:8080/"
        },
        "id": "4hX25WgxtfnS",
        "outputId": "c1380158-d3c2-475c-e908-02cbb09b429a"
      },
      "outputs": [
        {
          "data": {
            "text/plain": [
              "array([137099.6875])"
            ]
          },
          "execution_count": 48,
          "metadata": {},
          "output_type": "execute_result"
        }
      ],
      "source": [
        "y_pred = regressor.predict(X)\n",
        "y_pred"
      ]
    },
    {
      "cell_type": "code",
      "execution_count": null,
      "metadata": {
        "id": "3Qy7v4zBuBsH"
      },
      "outputs": [],
      "source": []
    },
    {
      "cell_type": "code",
      "execution_count": null,
      "metadata": {
        "id": "TeTsnP6XuEX2"
      },
      "outputs": [],
      "source": []
    },
    {
      "cell_type": "code",
      "execution_count": 49,
      "metadata": {
        "id": "4qUxYv7OuEIw"
      },
      "outputs": [],
      "source": [
        "import pickle"
      ]
    },
    {
      "cell_type": "code",
      "execution_count": 50,
      "metadata": {
        "id": "1rjl7Bw3uFaO"
      },
      "outputs": [],
      "source": [
        "data = {\"model\": regressor, \"le_country\": le_country, \"le_education\": le_education}\n",
        "with open('data/saved_steps.pkl', 'wb') as file:\n",
        "    pickle.dump(data, file)"
      ]
    },
    {
      "cell_type": "code",
      "execution_count": null,
      "metadata": {
        "id": "t4dN9bInuQIO"
      },
      "outputs": [],
      "source": []
    },
    {
      "cell_type": "code",
      "execution_count": null,
      "metadata": {
        "id": "inA9vpDZuUpX"
      },
      "outputs": [],
      "source": []
    },
    {
      "cell_type": "code",
      "execution_count": 51,
      "metadata": {
        "id": "Dkcm3RcJuUd-"
      },
      "outputs": [],
      "source": [
        "with open('data/saved_steps.pkl', 'rb') as file:\n",
        "    data = pickle.load(file)\n",
        "\n",
        "regressor_loaded = data[\"model\"]\n",
        "le_country = data[\"le_country\"]\n",
        "le_education = data[\"le_education\"]"
      ]
    },
    {
      "cell_type": "code",
      "execution_count": 52,
      "metadata": {
        "colab": {
          "base_uri": "https://localhost:8080/"
        },
        "id": "UeMnFCnxuVd1",
        "outputId": "afe11fbc-781a-4d7f-81bd-c9f32a197116"
      },
      "outputs": [
        {
          "data": {
            "text/plain": [
              "array([137099.6875])"
            ]
          },
          "execution_count": 52,
          "metadata": {},
          "output_type": "execute_result"
        }
      ],
      "source": [
        "y_pred = regressor_loaded.predict(X)\n",
        "y_pred"
      ]
    },
    {
      "cell_type": "code",
      "execution_count": null,
      "metadata": {
        "id": "FMHAPoN1uecV"
      },
      "outputs": [],
      "source": []
    }
  ],
  "metadata": {
    "colab": {
      "name": "prediction.ipynb",
      "provenance": []
    },
    "interpreter": {
      "hash": "6f86c1f7f764b0dbd75efb710c20df81ccf078fe99d7b27a5875d4f872b138b6"
    },
    "kernelspec": {
      "display_name": "Python 3.8.2 64-bit",
      "name": "python3"
    },
    "language_info": {
      "codemirror_mode": {
        "name": "ipython",
        "version": 3
      },
      "file_extension": ".py",
      "mimetype": "text/x-python",
      "name": "python",
      "nbconvert_exporter": "python",
      "pygments_lexer": "ipython3",
      "version": "3.8.2"
    },
    "orig_nbformat": 4
  },
  "nbformat": 4,
  "nbformat_minor": 2
}
